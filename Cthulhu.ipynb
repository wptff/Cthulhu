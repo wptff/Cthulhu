{
 "cells": [
  {
   "cell_type": "code",
   "execution_count": 44,
   "metadata": {},
   "outputs": [
    {
     "name": "stdout",
     "output_type": "stream",
     "text": [
      "35\n"
     ]
    }
   ],
   "source": [
    "# Create a class called Character with attributes:\n",
    "# name, strength, intelligence, wisdom, dexterity, \n",
    "# charisma, and constitution\n",
    "import random\n",
    "\n",
    "def dice(number_of_dice, number_of_sides, modifier):\n",
    "        total = 0\n",
    "        for i in range(number_of_dice):\n",
    "            total += random.randint(1, number_of_sides)\n",
    "        return total * modifier\n",
    "\n",
    "class Character:\n",
    "     \n",
    "    def __init__(self, Character_name):\n",
    "        self.name = Character_name\n",
    "        self.strength = dice(3, 6, 5)\n",
    "        self.intelligence = dice(2, 6, 5)\n",
    "\n",
    "        self.dexterity = dice(3, 6, 5)\n",
    "        self.constitution = dice(3, 6, 5)\n",
    "        self.size = dice(2, 6, 5)\n",
    "        self.appearance = dice(3, 6, 5)\n",
    "        self.willpower = dice(2, 6, 5)\n",
    "        self.education = dice(3, 6, 5)\n",
    "        self.age = random.randint(18, 60)\n",
    "        # hp = (size + constitution)/2 rounded down\n",
    "        self.hp = (self.size + self.constitution) // 2\n",
    "\n",
    "    \n",
    "\n",
    "class Occupation:\n",
    "    def __init__(self, Occupation_name): \n",
    "        self.name = Occupation_name\n",
    "        self.libary = dice(1, 6, 5)\n",
    "        self.occ_edu = dice(1, 6, 5)\n",
    "        self.occ_know = dice(1, 6, 5)\n",
    "        self.occ_sneak = dice(1, 6, 5)\n",
    "        self.investigation = dice(1, 6, 5)\n",
    "        self.persuasion = dice(1, 6, 5)\n",
    "        self.locksmith = dice(1, 6, 5)\n",
    "        self.fast_talk = dice(1, 6, 5)\n",
    "        self.charm = dice(1, 6, 5)\n",
    "\n",
    "class Investigator(Occupation):\n",
    "     # Define modifiers for Investigator Occupation\n",
    "\n",
    "\n",
    "class Soldier(Occupation):\n",
    "    # Define modifiers for Soldier Occupation\n",
    "\n",
    "class Professor(Occupation):\n",
    "    # Define modifiers for Professor Occupation \n",
    "\n"
   ]
  },
  {
   "cell_type": "code",
   "execution_count": null,
   "metadata": {},
   "outputs": [],
   "source": []
  }
 ],
 "metadata": {
  "kernelspec": {
   "display_name": "gpd_pytorch",
   "language": "python",
   "name": "python3"
  },
  "language_info": {
   "codemirror_mode": {
    "name": "ipython",
    "version": 3
   },
   "file_extension": ".py",
   "mimetype": "text/x-python",
   "name": "python",
   "nbconvert_exporter": "python",
   "pygments_lexer": "ipython3",
   "version": "3.9.11"
  },
  "orig_nbformat": 4
 },
 "nbformat": 4,
 "nbformat_minor": 2
}
