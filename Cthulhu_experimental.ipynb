{
 "cells": [
  {
   "cell_type": "code",
   "execution_count": null,
   "metadata": {},
   "outputs": [],
   "source": [
    "# Create a class called Character with attributes:\n",
    "# name, strength, intelligence, wisdom, dexterity, \n",
    "# charisma, and constitution\n",
    "import random\n",
    "\n",
    "def dice(number_of_dice, number_of_sides, modifier):\n",
    "        '''Rolls a number of dice with a number of sides and a modifier'''\n",
    "        total = 0\n",
    "        for i in range(number_of_dice):\n",
    "            total += random.randint(1, number_of_sides)\n",
    "        return total * modifier\n",
    "\n",
    "\n",
    "class Character:\n",
    "     \n",
    "    def __init__(self, Character_name):\n",
    "        self.name = Character_name\n",
    "        self.strength = dice(3, 6, 5)\n",
    "        self.intelligence = dice(2, 6, 5)\n",
    "\n",
    "        self.dexterity = dice(3, 6, 5)\n",
    "        self.constitution = dice(3, 6, 5)\n",
    "        self.size = dice(2, 6, 5)\n",
    "        self.appearance = dice(3, 6, 5)\n",
    "        self.willpower = dice(2, 6, 5)\n",
    "        self.education = dice(3, 6, 5)\n",
    "        self.age = random.randint(18, 60)\n",
    "        # hp = (size + constitution)/2 rounded down\n",
    "        self.hp = (self.size + self.constitution) // 2\n",
    "\n",
    "    \n",
    "\n"
   ]
  },
  {
   "cell_type": "code",
   "execution_count": null,
   "metadata": {},
   "outputs": [],
   "source": [
    "# print gandalf's stats\n",
    "gandalf = Character(\"Gandalf\")\n",
    "\n",
    "for attributes in gandalf.__dict__:\n",
    "    print(attributes, gandalf.__dict__[attributes])\n"
   ]
  },
  {
   "cell_type": "code",
   "execution_count": null,
   "metadata": {},
   "outputs": [],
   "source": [
    "constitution = dice(number_of_dice=3, modifier=5, number_of_sides=6)\n",
    "\n",
    "size = dice(number_of_dice=2, modifier=5, number_of_sides =6)\n",
    "\n",
    "print(size)\n",
    "print(constitution)"
   ]
  },
  {
   "cell_type": "code",
   "execution_count": null,
   "metadata": {},
   "outputs": [],
   "source": [
    "# Create a subclass of Character called Monster with attributes:\n",
    "# poison, claws, and tentacles\n",
    "\n",
    "class Monster(Character):\n",
    "    def __init__(self, name, strength, intelligence, willpower, appearance, size, dexterity, education, constitution, poison, claws, tentacles):\n",
    "        super().__init__(name, strength, intelligence, willpower, appearance, size, dexterity, education, constitution)\n",
    "        self.poison = poison\n",
    "        self.claws = claws\n",
    "        self.tentacles = tentacles\n",
    "\n",
    "# Create a subclass of Character called Hero with attributes:\n",
    "# weapon, armor, healing, and shield\n",
    "\n",
    "class Hero(Character):\n",
    "    def __init__(self, name, strength, intelligence, wisdom, dexterity, charisma, constitution, weapon, armor, healing, shield):\n",
    "        super().__init__(name, strength, intelligence, wisdom, dexterity, charisma, constitution)\n",
    "        self.weapon = weapon\n",
    "        self.armor = armor\n",
    "        self.healing = healing\n",
    "        self.shield = shield\n",
    "\n",
    "# Create a subclass of Monster called Dragon with attributes:\n",
    "# fire, breath, and wings\n",
    "\n",
    "class Dragon(Monster):\n",
    "    def __init__(self, name, strength, intelligence, wisdom, dexterity, charisma, constitution, poison, claws, tentacles, fire, breath, wings):\n",
    "        super().__init__(name, strength, intelligence, wisdom, dexterity, charisma, constitution, poison, claws, tentacles)\n",
    "        self.fire = fire\n",
    "        self.breath = breath\n",
    "        self.wings = wings\n",
    "\n",
    "# create a subclass of the Character Class called Magic_person with attributes:\n",
    "# magic, spell, and wand\n",
    "\n",
    "class Magic_person(Character):\n",
    "    def __init__(self, name, strength, intelligence, wisdom, dexterity, charisma, constitution, magic, spell, wand):\n",
    "        super().__init__(name, strength, intelligence, wisdom, dexterity, charisma, constitution)\n",
    "        self.magic = magic\n",
    "        self.spell = spell\n",
    "        self.wand = wand\n",
    "\n",
    "#  \n"
   ]
  },
  {
   "cell_type": "code",
   "execution_count": null,
   "metadata": {},
   "outputs": [],
   "source": [
    "# add a name generator for the character's name\n",
    "import os\n",
    "import openai \n",
    "\n",
    "openai.api_key = os.getenv(\"OPENAI_API_KEY\")\n",
    "response = openai.Completion.create( model=\"text-davinci-003\", prompt=\"Say this is a test\", temperature=0, max_tokens=7)"
   ]
  },
  {
   "cell_type": "code",
   "execution_count": null,
   "metadata": {},
   "outputs": [],
   "source": [
    "aCharacter = openai.Completion.create(\n",
    "  model=\"text-davinci-003\",\n",
    "  prompt=\"Generate a name and a backstory for a character for a fantasy story\",\n",
    "  temperature=0.8,\n",
    "  max_tokens=60,\n",
    "  top_p=1.0,\n",
    "  frequency_penalty=0.0,\n",
    "  presence_penalty=0.0\n",
    ")"
   ]
  },
  {
   "cell_type": "code",
   "execution_count": null,
   "metadata": {},
   "outputs": [],
   "source": [
    "# print the name of the character\n",
    "print(aCharacter.choices[0].text)\n"
   ]
  },
  {
   "cell_type": "code",
   "execution_count": null,
   "metadata": {},
   "outputs": [],
   "source": [
    "# Add a new class called Dungeon with attributes:\n",
    "\n",
    "# monsters, traps, and treasure\n",
    "\n",
    "class Dungeon:\n",
    "    def __init__(self, monsters, traps, treasure):\n",
    "        self.monsters = monsters\n",
    "        self.traps = traps\n",
    "        self.treasure = treasure\n",
    "\n",
    "        "
   ]
  }
 ],
 "metadata": {
  "kernelspec": {
   "display_name": "gpd_pytorch",
   "language": "python",
   "name": "python3"
  },
  "language_info": {
   "codemirror_mode": {
    "name": "ipython",
    "version": 3
   },
   "file_extension": ".py",
   "mimetype": "text/x-python",
   "name": "python",
   "nbconvert_exporter": "python",
   "pygments_lexer": "ipython3",
   "version": "3.9.11"
  },
  "orig_nbformat": 4
 },
 "nbformat": 4,
 "nbformat_minor": 2
}
